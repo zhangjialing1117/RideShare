
# Goals:
# 1) Predict a churn
# 2) Improving Rideshare Retention/Reduce churn rate

# Metrics:
# How to define a Churn!
# eg: if the number of days between xx/xx/xxxx and last trip date was greater than 30,
# then user is cateforized as "churned"

# 1. Problem statement, goal

# 2. EDA / Data cleaning / Feature engineering 
#  Feature EDA:
#   1) rating of driver VS churn rate, low rating, bad experience -> churn
#   2) surge price VS churn rate, high surge price -> churn
#   3) frequent ridership -> low churn rate
#   4) Weekday, Weekend -> churn
#   5) Distance, higher distance-> churn?
#  Missing data imputation:
#   1) replace 'null' values with 'Other'
#   2) replace missing value with mean of column values
#   3) replace missing values in A with corresponding B's value
#      (high correlationg between the features)
#  Turn Boolean values into integers
#  Turn categorical variables into dummies
#  Label creation: Define what is a Churn!
#  Insights through clustering user groups, user clustering:
#  1) user who use service mainly in the weekend -> higher churn rate
#  2) weekend trip: higher surge rate
#  3) user who take trip in the weekend -> have less trip distance
#  4) higher churn rate -> user less likely to be luxury car users
#  5) higher churn rate -> fewer trips in the first 30 days

# 3 Model building 
# classification
# feature importance!

# 4 Model evaluation & validity 
#
# 5 Insights & Suggestions 
#   1) improve the app
#   2) encourage weekday user -> offer promotions
#   3) encourage habit building and brand loyalty
#   4) lower avg distance cost?
#   5) 
